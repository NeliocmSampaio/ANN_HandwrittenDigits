{
 "cells": [
  {
   "cell_type": "markdown",
   "metadata": {},
   "source": [
    "Trabalho Prático 1 Aprendizado de máquina: Redes neurais de duas camadas\n",
    "Aluno: Nélio Cezar Muniz Sampaio\n",
    "Matrícula: 2015042150"
   ]
  },
  {
   "cell_type": "code",
   "execution_count": 29,
   "metadata": {},
   "outputs": [],
   "source": [
    "# Importando bibliotecas\n",
    "import numpy as np\n",
    "import matplotlib.pyplot as plt\n",
    "import pandas as pd"
   ]
  },
  {
   "cell_type": "code",
   "execution_count": 30,
   "metadata": {},
   "outputs": [],
   "source": [
    "# Importando dados\n",
    "dataset = pd.read_csv('data_tp1')"
   ]
  },
  {
   "cell_type": "code",
   "execution_count": 31,
   "metadata": {},
   "outputs": [],
   "source": [
    "#Separando em (x, y)\n",
    "x = dataset.iloc[:, 1:785].values / 255\n",
    "y = dataset.iloc[:, 0]"
   ]
  },
  {
   "cell_type": "code",
   "execution_count": 32,
   "metadata": {},
   "outputs": [],
   "source": [
    "# Transformando saída em vetor.\n",
    "y2 = y\n",
    "conv_arr = y2.values\n",
    "\n",
    "d = [ [] for i in range(len(conv_arr))]\n",
    "for ind, i in enumerate(conv_arr):\n",
    "    for j in range(10):\n",
    "        if i==j:\n",
    "            d[ind].append(1)\n",
    "        else:\n",
    "            d[ind].append(0)\n",
    "\n",
    "df = pd.DataFrame(data=d)"
   ]
  },
  {
   "cell_type": "code",
   "execution_count": 33,
   "metadata": {},
   "outputs": [],
   "source": [
    "#Separando em conjunto de treino e conjunto de teste\n",
    "from sklearn.model_selection import train_test_split\n",
    "x_train, x_test, y_train, y_test = train_test_split( x, df, test_size = 0.2, random_state = 0 )"
   ]
  },
  {
   "cell_type": "code",
   "execution_count": 34,
   "metadata": {},
   "outputs": [],
   "source": [
    "import keras\n",
    "from keras.models import Sequential\n",
    "from keras.layers import Dense\n"
   ]
  },
  {
   "cell_type": "code",
   "execution_count": 35,
   "metadata": {},
   "outputs": [],
   "source": [
    "# Inicializando a ANN\n",
    "classifier = Sequential()\n",
    "\n",
    "# Adicionando input layer e a hidden layer\n",
    "# units: neuronios na hidden layer; kernel_initializer: inicializar os pesos aleatoriamente; \n",
    "# activation: função de ativação; input_dim: neurônios na input layer.\n",
    "classifier.add( Dense(units=50, kernel_initializer='uniform', activation='relu', input_dim=784) )\n",
    "\n",
    "classifier.add( Dense(units=50, kernel_initializer='uniform', activation='relu') )\n"
   ]
  },
  {
   "cell_type": "code",
   "execution_count": 36,
   "metadata": {},
   "outputs": [],
   "source": [
    "# Adicionando a output Layer\n",
    "classifier.add( Dense(units=10, kernel_initializer='uniform', activation='sigmoid') )"
   ]
  },
  {
   "cell_type": "code",
   "execution_count": 37,
   "metadata": {},
   "outputs": [],
   "source": [
    "# Compilando\n",
    "classifier.compile(optimizer='adadelta', loss='binary_crossentropy', metrics=['accuracy'])"
   ]
  },
  {
   "cell_type": "code",
   "execution_count": 38,
   "metadata": {},
   "outputs": [
    {
     "name": "stdout",
     "output_type": "stream",
     "text": [
      "Train on 3999 samples, validate on 1000 samples\n",
      "Epoch 1/50\n",
      "3999/3999 [==============================] - 0s 89us/step - loss: 0.3854 - acc: 0.8905 - val_loss: 0.3321 - val_acc: 0.9000\n",
      "Epoch 2/50\n",
      "3999/3999 [==============================] - 0s 49us/step - loss: 0.2828 - acc: 0.9069 - val_loss: 0.2223 - val_acc: 0.9205\n",
      "Epoch 3/50\n",
      "3999/3999 [==============================] - 0s 51us/step - loss: 0.1839 - acc: 0.9321 - val_loss: 0.1573 - val_acc: 0.9416\n",
      "Epoch 4/50\n",
      "3999/3999 [==============================] - 0s 52us/step - loss: 0.1389 - acc: 0.9496 - val_loss: 0.1271 - val_acc: 0.9562\n",
      "Epoch 5/50\n",
      "3999/3999 [==============================] - 0s 63us/step - loss: 0.1131 - acc: 0.9615 - val_loss: 0.1103 - val_acc: 0.9648\n",
      "Epoch 6/50\n",
      "3999/3999 [==============================] - 0s 62us/step - loss: 0.0954 - acc: 0.9688 - val_loss: 0.0959 - val_acc: 0.9684\n",
      "Epoch 7/50\n",
      "3999/3999 [==============================] - 0s 62us/step - loss: 0.0826 - acc: 0.9732 - val_loss: 0.0849 - val_acc: 0.9720\n",
      "Epoch 8/50\n",
      "3999/3999 [==============================] - 0s 58us/step - loss: 0.0729 - acc: 0.9765 - val_loss: 0.0790 - val_acc: 0.9741\n",
      "Epoch 9/50\n",
      "3999/3999 [==============================] - 0s 58us/step - loss: 0.0660 - acc: 0.9786 - val_loss: 0.0735 - val_acc: 0.9747\n",
      "Epoch 10/50\n",
      "3999/3999 [==============================] - 0s 58us/step - loss: 0.0596 - acc: 0.9807 - val_loss: 0.0694 - val_acc: 0.9752\n",
      "Epoch 11/50\n",
      "3999/3999 [==============================] - 0s 67us/step - loss: 0.0547 - acc: 0.9826 - val_loss: 0.0674 - val_acc: 0.9772\n",
      "Epoch 12/50\n",
      "3999/3999 [==============================] - 0s 58us/step - loss: 0.0501 - acc: 0.9839 - val_loss: 0.0659 - val_acc: 0.9768\n",
      "Epoch 13/50\n",
      "3999/3999 [==============================] - 0s 54us/step - loss: 0.0464 - acc: 0.9848 - val_loss: 0.0616 - val_acc: 0.9780\n",
      "Epoch 14/50\n",
      "3999/3999 [==============================] - 0s 68us/step - loss: 0.0422 - acc: 0.9866 - val_loss: 0.0616 - val_acc: 0.9786\n",
      "Epoch 15/50\n",
      "3999/3999 [==============================] - 0s 72us/step - loss: 0.0391 - acc: 0.9879 - val_loss: 0.0594 - val_acc: 0.9795\n",
      "Epoch 16/50\n",
      "3999/3999 [==============================] - 0s 89us/step - loss: 0.0365 - acc: 0.9880 - val_loss: 0.0570 - val_acc: 0.9804\n",
      "Epoch 17/50\n",
      "3999/3999 [==============================] - 0s 80us/step - loss: 0.0334 - acc: 0.9895 - val_loss: 0.0558 - val_acc: 0.9806\n",
      "Epoch 18/50\n",
      "3999/3999 [==============================] - 0s 56us/step - loss: 0.0312 - acc: 0.9900 - val_loss: 0.0546 - val_acc: 0.9814\n",
      "Epoch 19/50\n",
      "3999/3999 [==============================] - 0s 52us/step - loss: 0.0284 - acc: 0.9913 - val_loss: 0.0550 - val_acc: 0.9810\n",
      "Epoch 20/50\n",
      "3999/3999 [==============================] - 0s 59us/step - loss: 0.0267 - acc: 0.9918 - val_loss: 0.0523 - val_acc: 0.9836\n",
      "Epoch 21/50\n",
      "3999/3999 [==============================] - 0s 55us/step - loss: 0.0248 - acc: 0.9922 - val_loss: 0.0536 - val_acc: 0.9824\n",
      "Epoch 22/50\n",
      "3999/3999 [==============================] - 0s 54us/step - loss: 0.0229 - acc: 0.9934 - val_loss: 0.0522 - val_acc: 0.9816\n",
      "Epoch 23/50\n",
      "3999/3999 [==============================] - 0s 56us/step - loss: 0.0213 - acc: 0.9939 - val_loss: 0.0511 - val_acc: 0.9831\n",
      "Epoch 24/50\n",
      "3999/3999 [==============================] - 0s 58us/step - loss: 0.0197 - acc: 0.9942 - val_loss: 0.0492 - val_acc: 0.9834\n",
      "Epoch 25/50\n",
      "3999/3999 [==============================] - 0s 54us/step - loss: 0.0182 - acc: 0.9952 - val_loss: 0.0504 - val_acc: 0.9828\n",
      "Epoch 26/50\n",
      "3999/3999 [==============================] - 0s 58us/step - loss: 0.0167 - acc: 0.9953 - val_loss: 0.0502 - val_acc: 0.9844\n",
      "Epoch 27/50\n",
      "3999/3999 [==============================] - 0s 54us/step - loss: 0.0156 - acc: 0.9959 - val_loss: 0.0497 - val_acc: 0.9838\n",
      "Epoch 28/50\n",
      "3999/3999 [==============================] - 0s 58us/step - loss: 0.0146 - acc: 0.9963 - val_loss: 0.0497 - val_acc: 0.9842\n",
      "Epoch 29/50\n",
      "3999/3999 [==============================] - 0s 56us/step - loss: 0.0133 - acc: 0.9967 - val_loss: 0.0511 - val_acc: 0.9830\n",
      "Epoch 30/50\n",
      "3999/3999 [==============================] - 0s 62us/step - loss: 0.0123 - acc: 0.9968 - val_loss: 0.0510 - val_acc: 0.9832\n",
      "Epoch 31/50\n",
      "3999/3999 [==============================] - 0s 58us/step - loss: 0.0114 - acc: 0.9972 - val_loss: 0.0500 - val_acc: 0.9837\n",
      "Epoch 32/50\n",
      "3999/3999 [==============================] - 0s 57us/step - loss: 0.0106 - acc: 0.9976 - val_loss: 0.0499 - val_acc: 0.9846\n",
      "Epoch 33/50\n",
      "3999/3999 [==============================] - 0s 56us/step - loss: 0.0095 - acc: 0.9979 - val_loss: 0.0501 - val_acc: 0.9843\n",
      "Epoch 34/50\n",
      "3999/3999 [==============================] - 0s 56us/step - loss: 0.0088 - acc: 0.9981 - val_loss: 0.0518 - val_acc: 0.9850\n",
      "Epoch 35/50\n",
      "3999/3999 [==============================] - 0s 55us/step - loss: 0.0081 - acc: 0.9984 - val_loss: 0.0520 - val_acc: 0.9841\n",
      "Epoch 36/50\n",
      "3999/3999 [==============================] - 0s 54us/step - loss: 0.0078 - acc: 0.9983 - val_loss: 0.0515 - val_acc: 0.9850\n",
      "Epoch 37/50\n",
      "3999/3999 [==============================] - 0s 49us/step - loss: 0.0067 - acc: 0.9987 - val_loss: 0.0521 - val_acc: 0.9844\n",
      "Epoch 38/50\n",
      "3999/3999 [==============================] - 0s 52us/step - loss: 0.0062 - acc: 0.9988 - val_loss: 0.0520 - val_acc: 0.9849\n",
      "Epoch 39/50\n",
      "3999/3999 [==============================] - 0s 52us/step - loss: 0.0058 - acc: 0.9989 - val_loss: 0.0524 - val_acc: 0.9853\n",
      "Epoch 40/50\n",
      "3999/3999 [==============================] - 0s 53us/step - loss: 0.0053 - acc: 0.9990 - val_loss: 0.0532 - val_acc: 0.9851\n",
      "Epoch 41/50\n",
      "3999/3999 [==============================] - 0s 51us/step - loss: 0.0050 - acc: 0.9992 - val_loss: 0.0540 - val_acc: 0.9853\n",
      "Epoch 42/50\n",
      "3999/3999 [==============================] - 0s 49us/step - loss: 0.0044 - acc: 0.9993 - val_loss: 0.0543 - val_acc: 0.9854\n",
      "Epoch 43/50\n",
      "3999/3999 [==============================] - 0s 50us/step - loss: 0.0041 - acc: 0.9994 - val_loss: 0.0544 - val_acc: 0.9850\n",
      "Epoch 44/50\n",
      "3999/3999 [==============================] - 0s 50us/step - loss: 0.0036 - acc: 0.9995 - val_loss: 0.0548 - val_acc: 0.9853\n",
      "Epoch 45/50\n",
      "3999/3999 [==============================] - 0s 50us/step - loss: 0.0033 - acc: 0.9995 - val_loss: 0.0554 - val_acc: 0.9854\n",
      "Epoch 46/50\n",
      "3999/3999 [==============================] - 0s 49us/step - loss: 0.0030 - acc: 0.9996 - val_loss: 0.0561 - val_acc: 0.9850\n",
      "Epoch 47/50\n",
      "3999/3999 [==============================] - 0s 47us/step - loss: 0.0029 - acc: 0.9996 - val_loss: 0.0567 - val_acc: 0.9848\n",
      "Epoch 48/50\n",
      "3999/3999 [==============================] - 0s 49us/step - loss: 0.0024 - acc: 0.9998 - val_loss: 0.0565 - val_acc: 0.9850\n",
      "Epoch 49/50\n",
      "3999/3999 [==============================] - 0s 51us/step - loss: 0.0024 - acc: 0.9998 - val_loss: 0.0574 - val_acc: 0.9853\n",
      "Epoch 50/50\n",
      "3999/3999 [==============================] - 0s 50us/step - loss: 0.0021 - acc: 0.9999 - val_loss: 0.0585 - val_acc: 0.9858\n"
     ]
    }
   ],
   "source": [
    "history = classifier.fit(x_train, y_train, validation_data = (x_test, y_test), batch_size=32, epochs=50)"
   ]
  },
  {
   "cell_type": "code",
   "execution_count": 39,
   "metadata": {},
   "outputs": [
    {
     "data": {
      "text/plain": [
       "<function matplotlib.pyplot.show(*args, **kw)>"
      ]
     },
     "execution_count": 39,
     "metadata": {},
     "output_type": "execute_result"
    },
    {
     "data": {
      "image/png": "[encoded data removed]",
      "text/plain": [
       "<Figure size 432x288 with 1 Axes>"
      ]
     },
     "metadata": {},
     "output_type": "display_data"
    }
   ],
   "source": [
    "#print(history.history.keys())\n",
    "\n",
    "plt.plot(history.history['acc'])\n",
    "plt.plot(history.history['val_acc'])\n",
    "plt.title('model accuracy')\n",
    "plt.ylabel('accuracy')\n",
    "plt.xlabel('epoch')\n",
    "plt.legend( ['train', 'test'], loc='upper left' )\n",
    "plt.show"
   ]
  },
  {
   "cell_type": "code",
   "execution_count": 40,
   "metadata": {},
   "outputs": [
    {
     "data": {
      "text/plain": [
       "<function matplotlib.pyplot.show(*args, **kw)>"
      ]
     },
     "execution_count": 40,
     "metadata": {},
     "output_type": "execute_result"
    },
    {
     "data": {
      "image/png": "[encoded data removed]",
      "text/plain": [
       "<Figure size 432x288 with 1 Axes>"
      ]
     },
     "metadata": {},
     "output_type": "display_data"
    }
   ],
   "source": [
    "#print(history.history.keys())\n",
    "\n",
    "plt.plot(history.history['loss'])\n",
    "plt.plot(history.history['val_loss'])\n",
    "plt.title('model loss')\n",
    "plt.ylabel('lossy')\n",
    "plt.xlabel('epoch')\n",
    "plt.legend( ['train', 'test'], loc='upper left' )\n",
    "plt.show"
   ]
  },
  {
   "cell_type": "code",
   "execution_count": 44,
   "metadata": {
    "scrolled": true
   },
   "outputs": [
    {
     "name": "stdout",
     "output_type": "stream",
     "text": [
      "_________________________________________________________________\n",
      "Layer (type)                 Output Shape              Param #   \n",
      "=================================================================\n",
      "dense_5 (Dense)              (None, 50)                39250     \n",
      "_________________________________________________________________\n",
      "dense_6 (Dense)              (None, 10)                510       \n",
      "=================================================================\n",
      "Total params: 39,760\n",
      "Trainable params: 39,760\n",
      "Non-trainable params: 0\n",
      "_________________________________________________________________\n"
     ]
    },
    {
     "data": {
      "text/plain": [
       "1.0"
      ]
     },
     "execution_count": 44,
     "metadata": {},
     "output_type": "execute_result"
    }
   ],
   "source": [
    "classifier.summary()\n",
    "#x_train.max()"
   ]
  }
 ],
 "metadata": {
  "kernelspec": {
   "display_name": "Python 3",
   "language": "python",
   "name": "python3"
  },
  "language_info": {
   "codemirror_mode": {
    "name": "ipython",
    "version": 3
   },
   "file_extension": ".py",
   "mimetype": "text/x-python",
   "name": "python",
   "nbconvert_exporter": "python",
   "pygments_lexer": "ipython3",
   "version": "3.6.5"
  }
 },
 "nbformat": 4,
 "nbformat_minor": 2
}
