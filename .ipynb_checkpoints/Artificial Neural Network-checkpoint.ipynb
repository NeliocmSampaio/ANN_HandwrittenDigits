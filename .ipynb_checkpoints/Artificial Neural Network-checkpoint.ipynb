{
 "cells": [
  {
   "cell_type": "markdown",
   "metadata": {},
   "source": [
    "<b>Trabalho Prático 1 Aprendizado de Máquina: Redes Neuronais <br> </b>\n",
    "Aluno: Nélio Cezar Muniz Sampaio <br>\n",
    "Matrícula: 2015042150"
   ]
  },
  {
   "cell_type": "code",
   "execution_count": 175,
   "metadata": {},
   "outputs": [],
   "source": [
    "# Importando bibliotecas\n",
    "import numpy as np\n",
    "import matplotlib.pyplot as plt\n",
    "import pandas as pd\n",
    "\n",
    "# Importando dados\n",
    "dataset = pd.read_csv('data_tp1')\n",
    "\n",
    "#Separando em (x, y)\n",
    "x = dataset.iloc[:, 1:785].values / 255\n",
    "y = dataset.iloc[:, 0]\n",
    "\n",
    "# Transformando saída em vetor.\n",
    "y2 = y\n",
    "conv_arr = y2.values\n",
    "\n",
    "d = [ [] for i in range(len(conv_arr))]\n",
    "for ind, i in enumerate(conv_arr):\n",
    "    for j in range(10):\n",
    "        if i==j:\n",
    "            d[ind].append(1)\n",
    "        else:\n",
    "            d[ind].append(0)\n",
    "\n",
    "df = pd.DataFrame(data=d)\n",
    "\n",
    "#Separando em conjunto de treino e conjunto de teste\n",
    "from sklearn.model_selection import train_test_split\n",
    "x_train, x_test, y_train, y_test = train_test_split( x, df, test_size = 0.2, random_state = 0 )"
   ]
  },
  {
   "cell_type": "code",
   "execution_count": 176,
   "metadata": {},
   "outputs": [],
   "source": [
    "import keras\n",
    "from keras.models import Sequential\n",
    "from keras.layers import Dense\n",
    "from keras import optimizers"
   ]
  },
  {
   "cell_type": "markdown",
   "metadata": {},
   "source": [
    "Variação do número de unidades na camada oculta."
   ]
  },
  {
   "cell_type": "code",
   "execution_count": 197,
   "metadata": {},
   "outputs": [
    {
     "data": {
      "image/png": "[encoded data removed]",
      "text/plain": [
       "<Figure size 432x288 with 1 Axes>"
      ]
     },
     "metadata": {},
     "output_type": "display_data"
    }
   ],
   "source": [
    "# Inicializando a ANN\n",
    "classifier_25 = Sequential()\n",
    "classifier_50 = Sequential()\n",
    "classifier_100 = Sequential()\n",
    "\n",
    "#Adiciona Camadas:\n",
    "\n",
    "# Adicionando input layer e a hidden layer\n",
    "# units: neuronios na hidden layer; kernel_initializer: inicializar os pesos aleatoriamente; \n",
    "# activation: função de ativação; input_dim: neurônios na input layer.\n",
    "\n",
    "# 25 Unidades na camada oculta\n",
    "classifier_25.add( Dense(units=25, kernel_initializer='uniform', activation='sigmoid', input_dim=784) )\n",
    "classifier_25.add( Dense(units=10, kernel_initializer='uniform', activation='sigmoid') )\n",
    "\n",
    "# 50 Unidades na camada oculta:\n",
    "classifier_50.add( Dense(units=50, kernel_initializer='uniform', activation='sigmoid', input_dim=784) )\n",
    "classifier_50.add( Dense(units=10, kernel_initializer='uniform', activation='sigmoid') )\n",
    "\n",
    "# 100 Unidades na camada oculta:\n",
    "classifier_100.add( Dense(units=100, kernel_initializer='uniform', activation='sigmoid', input_dim=784) )\n",
    "classifier_100.add( Dense(units=10, kernel_initializer='uniform', activation='sigmoid') )\n",
    "\n",
    "#\n",
    "sgd = optimizers.SGD(lr=0.5)\n",
    "\n",
    "# Compilando\n",
    "classifier_25.compile(optimizer=sgd, loss='binary_crossentropy', metrics=['accuracy'])\n",
    "classifier_50.compile(optimizer=sgd, loss='binary_crossentropy', metrics=['accuracy'])\n",
    "classifier_100.compile(optimizer=sgd, loss='binary_crossentropy', metrics=['accuracy'])\n",
    "\n",
    "epocas = 25\n",
    "\n",
    "history = classifier_25.fit(x_train, y_train, validation_data = (x_test, y_test), batch_size=10, epochs=epocas, verbose=0)\n",
    "accuracy_25 = history.history[\"acc\"]\n",
    "model_accuracy_25 = history.history['val_acc']\n",
    "\n",
    "history = classifier_50.fit(x_train, y_train, validation_data = (x_test, y_test), batch_size=10, epochs=epocas, verbose=0)\n",
    "accuracy_50 = history.history[\"acc\"]\n",
    "model_accuracy_50 = history.history['val_acc']\n",
    "\n",
    "history = classifier_100.fit(x_train, y_train, validation_data = (x_test, y_test), batch_size=10, epochs=epocas, verbose=0)\n",
    "accuracy_100 = history.history[\"acc\"]\n",
    "model_accuracy_100 = history.history['val_acc']\n",
    "\n",
    "\n",
    "fig1 = plt.figure()\n",
    "ax1 = fig1.add_subplot(111)\n",
    "ax1.plot (model_accuracy_25)\n",
    "ax1.plot(model_accuracy_50)\n",
    "ax1.plot(model_accuracy_100)\n",
    "#ax1.plot(model_accuracy_25)\n",
    "plt.title('Accuracy per epoch')\n",
    "plt.ylabel('accuracy')\n",
    "plt.xlabel('epoch')\n",
    "plt.legend( ['25 hidden layers', '50 hidden layers', '100 hidden layers'], loc='lower right' )\n",
    "\n",
    "'''\n",
    "fig2 = plt.figure()\n",
    "ax2 = fig2.add_subplot(111)\n",
    "ax2.plot(accuracy_50)\n",
    "ax2.plot(model_accuracy_50)\n",
    "plt.ylabel('accuracy')\n",
    "plt.xlabel('epoch')\n",
    "plt.legend( ['train', 'test'], loc='upper left' )\n",
    "\n",
    "fig3 = plt.figure()\n",
    "ax3 = fig3.add_subplot(111)\n",
    "ax3.plot(accuracy_100)\n",
    "ax3.plot(model_accuracy_100)\n",
    "plt.ylabel('accuracy')\n",
    "plt.xlabel('epoch')\n",
    "plt.legend( ['train', 'test'], loc='upper left' )\n",
    "'''\n",
    "\n",
    "'''\n",
    "plt.subplot(2, 1, 1)\n",
    "plt.plot(accuracy_25)\n",
    "plt.title('model accuracy')\n",
    "plt.ylabel('accuracy')\n",
    "plt.xlabel('epoch')\n",
    "#plt.subplot(model_accuracy_25)\n",
    "plt.subplot(2, 1, 1)\n",
    "plt.plot(accuracy_50)\n",
    "plt.title('model accuracy')\n",
    "plt.ylabel('accuracy')\n",
    "plt.xlabel('epoch')\n",
    "#plt.subplot(model_accuracy_50)\n",
    "plt.subplot(2, 1, 1)\n",
    "plt.plot(accuracy_100)\n",
    "plt.title('model accuracy')\n",
    "plt.ylabel('accuracy')\n",
    "plt.xlabel('epoch')\n",
    "#plt.subplot(model_accuracy_100)\n",
    "plt.legend( ['train', 'test'], loc='upper left' )\n",
    "'''\n",
    "\n",
    "plt.show()\n",
    "\n"
   ]
  },
  {
   "cell_type": "code",
   "execution_count": null,
   "metadata": {},
   "outputs": [],
   "source": [
    "# Compilando\n",
    "sgd = optimizers.SGD(lr=10)\n",
    "classifier.compile(optimizer=sgd, loss='binary_crossentropy', metrics=['accuracy'])\n",
    "\n",
    "history = classifier.fit(x_train, y_train, validation_data = (x_test, y_test), batch_size=32, epochs=50, verbose=0)\n",
    "\n",
    "accuracy_1 = history.history[\"acc\"]\n",
    "model_accuracy_1 = history.history['val_acc']\n",
    "\n",
    "plt.plot(accuracy_1)\n",
    "plt.plot(model_accuracy_1)\n",
    "plt.title('model accuracy')\n",
    "plt.ylabel('accuracy')\n",
    "plt.xlabel('epoch')\n",
    "plt.legend( ['train', 'test'], loc='upper left' )\n",
    "plt.show"
   ]
  },
  {
   "cell_type": "code",
   "execution_count": 114,
   "metadata": {},
   "outputs": [
    {
     "data": {
      "text/plain": [
       "<function matplotlib.pyplot.show(*args, **kw)>"
      ]
     },
     "execution_count": 114,
     "metadata": {},
     "output_type": "execute_result"
    },
    {
     "data": {
      "image/png": "[encoded data removed]",
      "text/plain": [
       "<Figure size 432x288 with 1 Axes>"
      ]
     },
     "metadata": {},
     "output_type": "display_data"
    }
   ],
   "source": [
    "#print(history.history.keys())\n",
    "\n",
    "plt.plot(history.history['loss'])\n",
    "plt.plot(history.history['val_loss'])\n",
    "plt.title('model loss')\n",
    "plt.ylabel('lossy')\n",
    "plt.xlabel('epoch')\n",
    "plt.legend( ['train', 'test'], loc='upper left' )\n",
    "plt.show"
   ]
  },
  {
   "cell_type": "code",
   "execution_count": 106,
   "metadata": {
    "scrolled": true
   },
   "outputs": [
    {
     "name": "stdout",
     "output_type": "stream",
     "text": [
      "_________________________________________________________________\n",
      "Layer (type)                 Output Shape              Param #   \n",
      "=================================================================\n",
      "dense_13 (Dense)             (None, 50)                39250     \n",
      "_________________________________________________________________\n",
      "dense_14 (Dense)             (None, 10)                510       \n",
      "=================================================================\n",
      "Total params: 39,760\n",
      "Trainable params: 39,760\n",
      "Non-trainable params: 0\n",
      "_________________________________________________________________\n"
     ]
    }
   ],
   "source": [
    "classifier.summary()\n",
    "#x_train.max()"
   ]
  }
 ],
 "metadata": {
  "kernelspec": {
   "display_name": "Python 3",
   "language": "python",
   "name": "python3"
  },
  "language_info": {
   "codemirror_mode": {
    "name": "ipython",
    "version": 3
   },
   "file_extension": ".py",
   "mimetype": "text/x-python",
   "name": "python",
   "nbconvert_exporter": "python",
   "pygments_lexer": "ipython3",
   "version": "3.6.5"
  }
 },
 "nbformat": 4,
 "nbformat_minor": 2
}
